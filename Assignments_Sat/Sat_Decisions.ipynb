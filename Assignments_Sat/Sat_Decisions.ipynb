{
 "cells": [
  {
   "cell_type": "markdown",
   "metadata": {},
   "source": [
    "# Exercises"
   ]
  },
  {
   "cell_type": "markdown",
   "metadata": {},
   "source": [
    "## Question 1"
   ]
  },
  {
   "cell_type": "markdown",
   "metadata": {},
   "source": [
    "**Write a program that takes input of number from user and checks whether number is positive or negative.**"
   ]
  },
  {
   "cell_type": "code",
   "execution_count": 4,
   "metadata": {},
   "outputs": [
    {
     "output_type": "stream",
     "name": "stdout",
     "text": [
      "Negative Number\n"
     ]
    }
   ],
   "source": [
    "#Answer\n",
    "\n",
    "number = float(input(\"Enter a number:\"))\n",
    "if number >= 0:\n",
    "    print(\"Positive Number\")\n",
    "else:\n",
    "    print(\"Negative Number\")\n"
   ]
  },
  {
   "cell_type": "markdown",
   "metadata": {},
   "source": [
    "## Question 2"
   ]
  },
  {
   "cell_type": "markdown",
   "metadata": {},
   "source": [
    "**Write a program that inputs a number from user and checks whether number is even or odd.**"
   ]
  },
  {
   "cell_type": "code",
   "execution_count": 7,
   "metadata": {},
   "outputs": [
    {
     "output_type": "stream",
     "name": "stdout",
     "text": [
      "15 is An Odd Number\n"
     ]
    }
   ],
   "source": [
    "#Answer\n",
    "\n",
    "number = int(input(\"Enter a number:\"))\n",
    "if (number % 2) == 0:\n",
    "    print(\"{0} is An Even Number\".format(number))\n",
    "else:\n",
    "    print(\"{0} is An Odd Number\".format(number))"
   ]
  },
  {
   "cell_type": "markdown",
   "metadata": {},
   "source": [
    "## Question 3"
   ]
  },
  {
   "cell_type": "markdown",
   "metadata": {},
   "source": [
    "**Write a program that finds greatest among three numbers. <br> And output print with \"The largest number is (output)\"**"
   ]
  },
  {
   "cell_type": "code",
   "execution_count": 11,
   "metadata": {},
   "outputs": [
    {
     "output_type": "stream",
     "name": "stdout",
     "text": [
      "The largest number is 10.2\n"
     ]
    }
   ],
   "source": [
    "number1 = float(input(\"Enter first number: \"))\n",
    "\n",
    "number2 = float(input(\"Enter second number: \"))\n",
    "\n",
    "number3 = float(input(\"Enter third number: \"))\n",
    "\n",
    "if (number1 > number2) and (number1 > number3):\n",
    "\n",
    "    largest = number1\n",
    "\n",
    "elif (number2 > number1) and (number2 > number3):\n",
    "\n",
    "    largest = number2\n",
    "\n",
    "else:\n",
    "\n",
    "    largest = number3\n",
    "\n",
    "print(\"The largest number is\",largest)"
   ]
  },
  {
   "cell_type": "markdown",
   "metadata": {},
   "source": [
    "## Question 4"
   ]
  },
  {
   "cell_type": "markdown",
   "metadata": {},
   "source": [
    "**You’re on a long car trip and arrive at a gas station. The next gas station is 200km away.\n",
    "Write a program to figure out if you need to buy gas here, or if you can wait for the\n",
    "next station. <br><br>\n",
    "The condition to buy gas here is if car is able to run at least 200km more <br><br>\n",
    "Ask user for input: How many litres of gas left in tank? How many km/litre is your car? <br>\n",
    "Hint: Calculate the distance your car can still run with remaining gas**\n"
   ]
  },
  {
   "cell_type": "code",
   "execution_count": 73,
   "metadata": {},
   "outputs": [
    {
     "output_type": "stream",
     "name": "stdout",
     "text": [
      "You can wait for the next station\n"
     ]
    }
   ],
   "source": [
    "#Answer\n",
    "\n",
    "gasleft = int(input (\"Please enter the litres of gas left in tank\"))\n",
    "fuelconsumption = int(input (\"Please enter how many km your car can travel on 1 litre of gas\"))\n",
    "\n",
    "distancethecarcantravelbeforenextrefill= gasleft*fuelconsumption\n",
    "\n",
    "if distancethecarcantravelbeforenextrefill >=200:\n",
    "    print(\"You can wait for the next gas station to top up your gas\")\n",
    "\n",
    "else:\n",
    "    print(\"You need to buy gas as soon as possible\")"
   ]
  },
  {
   "cell_type": "markdown",
   "metadata": {},
   "source": [
    "## Question 5"
   ]
  },
  {
   "cell_type": "markdown",
   "metadata": {},
   "source": [
    "**A soccer team is looking for girls from ages 10 to 12 to play on their team. Write a program to ask the user’s age and whether the user is male or female (using “m” or “f”). Display a message indicating whether the person is eligible to play on the team.\n",
    "Bonus: Make the program so that it doesn’t ask for the age unless the user is a girl.**"
   ]
  },
  {
   "cell_type": "code",
   "execution_count": 64,
   "metadata": {},
   "outputs": [
    {
     "output_type": "stream",
     "name": "stdout",
     "text": [
      " You are not eligible to play on the soccer team.\n"
     ]
    }
   ],
   "source": [
    "#Answer\n",
    "\n",
    "gender = (input(\"Please indicate whether you are a female or male?\"))\n",
    "\n",
    "if gender == \"female\":\n",
    "    age = int(input(\"How old are you?\"))\n",
    "\n",
    "    if age >= 10 and age <= 12:\n",
    "        result = \" You are eligible to play on the soccer team.\"\n",
    "\n",
    "    else:\n",
    "        result = \" You are not eligible to play on the soccer team.\"\n",
    "    \n",
    "else:\n",
    "    result = \" You are not eligible to play on the soccer team.\"\n",
    "    \n",
    "print (result)"
   ]
  },
  {
   "cell_type": "markdown",
   "metadata": {},
   "source": [
    "## Question 6"
   ]
  },
  {
   "cell_type": "markdown",
   "metadata": {},
   "source": [
    "**Write a program that prompts the user to enter a weight in kilograms and height in metres and then displays the BMI as well as below interpreations.** \n",
    "\n",
    "**If BMI is Below $18.5$, it is interpreted as Underweight. <br>\n",
    "If BMI is from $18.5–24.9$, it is interpreted as Normal. <br>\n",
    "If BMI is from $25.0–29.9$, it is interpreted as Overweight. <br>\n",
    "else If BMI is Above $30.0$, it is interpreted as Obese.**\n"
   ]
  },
  {
   "cell_type": "code",
   "execution_count": 39,
   "metadata": {},
   "outputs": [
    {
     "output_type": "stream",
     "name": "stdout",
     "text": [
      "your BMI is 27.21730294672667 overweight.\n"
     ]
    }
   ],
   "source": [
    "#Answer\n",
    "\n",
    "weight = float(input(\"Enter Weight In Kilograms:\"))\n",
    "height = float(input(\"Enter Height in Metres:\"))\n",
    "\n",
    "bmi = weight/(height*height)\n",
    "\n",
    "if bmi <= 18.5:\n",
    "    print('Your BMI is', bmi,'which means you are underweight.')\n",
    "\n",
    "elif (bmi > 18.5 and bmi < 25):\n",
    "    print('Your BMI is', bmi,'which means you are normal.')\n",
    "\n",
    "elif (bmi > 25 and bmi < 30):\n",
    "    print('your BMI is', bmi,'overweight.')\n",
    "\n",
    "elif (bmi > 30):\n",
    "    print('Your BMI is', bmi,'which means you are obese.')"
   ]
  },
  {
   "cell_type": "markdown",
   "metadata": {},
   "source": [
    "## Question 7"
   ]
  },
  {
   "cell_type": "markdown",
   "metadata": {},
   "source": [
    "**Write a program in which user enters one number and whether it is divisible by 7 (ie. remainder 0 when divide by 7) and is not a multiple of 5.**"
   ]
  },
  {
   "cell_type": "code",
   "execution_count": 25,
   "metadata": {},
   "outputs": [
    {
     "output_type": "stream",
     "name": "stdout",
     "text": [
      "42 is divisible by 7 and is not a multiple of 5\n"
     ]
    }
   ],
   "source": [
    "#Answer\n",
    "\n",
    "number = int(input(\"Enter a number:\"))\n",
    "if (number % 7) == 0 and (number % 5) != 0:\n",
    "    print(\"{0} is divisible by 7 and is not a multiple of 5\".format(number))\n",
    "elif (number % 7) == 0 and (number % 5) == 0:\n",
    "    print(\"{0} is divisible by 7 and is a multiple of 5\".format(number))\n",
    "else:\n",
    "    print(\"{0} is not divisible by 7\".format(number))"
   ]
  },
  {
   "cell_type": "code",
   "execution_count": null,
   "metadata": {},
   "outputs": [],
   "source": []
  }
 ],
 "metadata": {
  "kernelspec": {
   "name": "python3",
   "display_name": "Python 3.9.1 64-bit",
   "metadata": {
    "interpreter": {
     "hash": "63fd5069d213b44bf678585dea6b12cceca9941eaf7f819626cde1f2670de90d"
    }
   }
  },
  "language_info": {
   "codemirror_mode": {
    "name": "ipython",
    "version": 3
   },
   "file_extension": ".py",
   "mimetype": "text/x-python",
   "name": "python",
   "nbconvert_exporter": "python",
   "pygments_lexer": "ipython3",
   "version": "3.9.1-final"
  }
 },
 "nbformat": 4,
 "nbformat_minor": 2
}