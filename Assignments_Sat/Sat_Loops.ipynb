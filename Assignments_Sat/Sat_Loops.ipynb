{
 "cells": [
  {
   "cell_type": "markdown",
   "metadata": {},
   "source": [
    "# Exercises"
   ]
  },
  {
   "cell_type": "markdown",
   "metadata": {},
   "source": [
    "## Question 1"
   ]
  },
  {
   "cell_type": "markdown",
   "metadata": {},
   "source": [
    "**Predict the Output.**"
   ]
  },
  {
   "source": [
    "for i in [1, 2, 3, 4, 5]:\n",
    "    print (\"hello\")"
   ],
   "cell_type": "code",
   "metadata": {},
   "execution_count": null,
   "outputs": []
  },
  {
   "source": [
    "The output will be:\n",
    "hello\n",
    "hello\n",
    "hello\n",
    "hello\n",
    "hello"
   ],
   "cell_type": "markdown",
   "metadata": {}
  },
  {
   "cell_type": "markdown",
   "metadata": {},
   "source": [
    "## Question 2"
   ]
  },
  {
   "cell_type": "markdown",
   "metadata": {},
   "source": [
    "**Predict the Output.**"
   ]
  },
  {
   "source": [
    "for i in [1, 2, 3, 4, 5]:\n",
    "    print (i)"
   ],
   "cell_type": "markdown",
   "metadata": {}
  },
  {
   "source": [
    "The Output will be \n",
    "1\n",
    "2\n",
    "3\n",
    "4\n",
    "5"
   ],
   "cell_type": "markdown",
   "metadata": {}
  },
  {
   "cell_type": "markdown",
   "metadata": {},
   "source": [
    "## Question 3"
   ]
  },
  {
   "cell_type": "markdown",
   "metadata": {},
   "source": [
    "**Predict the Output.**"
   ]
  },
  {
   "source": [
    "for looper in [1, 2, 3, 4, 5]:\n",
    "    print (looper, \"times 8 =\", looper * 8)"
   ],
   "cell_type": "code",
   "metadata": {},
   "execution_count": null,
   "outputs": []
  },
  {
   "source": [
    "The output will be:\n",
    "\n",
    "1 times 8 = 8\n",
    "2 times 8 = 16\n",
    "3 times 8 = 24\n",
    "4 times 8 = 32\n",
    "5 times 8 = 40\n"
   ],
   "cell_type": "markdown",
   "metadata": {}
  },
  {
   "cell_type": "markdown",
   "metadata": {},
   "source": [
    "## Question 4"
   ]
  },
  {
   "cell_type": "markdown",
   "metadata": {},
   "source": [
    "**Predict the Output.**"
   ]
  },
  {
   "source": [
    "import time\n",
    "for i in range (5, 0, -1):         #Counts backward. \n",
    "                                     #Range ([start], [stop], [ step])\n",
    "                                    #start: Starting number of the sequence.\n",
    "                                    #stop: Generate numbers up to, but not including this number.\n",
    "                                    #step: Difference between each number in the sequence.\n",
    "    print (i)\n",
    "    time.sleep(1)                   #Waits one second\n",
    "print (\"BLAST OFF!\")"
   ],
   "cell_type": "code",
   "metadata": {
    "scrolled": true
   },
   "execution_count": null,
   "outputs": []
  },
  {
   "source": [
    "The output will be:\n",
    "5\n",
    "4\n",
    "3\n",
    "2\n",
    "1\n",
    "BLAST OFF!"
   ],
   "cell_type": "markdown",
   "metadata": {}
  },
  {
   "cell_type": "markdown",
   "metadata": {},
   "source": [
    "## Question 5"
   ]
  },
  {
   "cell_type": "markdown",
   "metadata": {},
   "source": [
    "**Predict the Output.**"
   ]
  },
  {
   "source": [
    "for i in range(1, 6, 2):\n",
    "    print ('Hi, Warren')"
   ],
   "cell_type": "code",
   "metadata": {
    "scrolled": true
   },
   "execution_count": null,
   "outputs": []
  },
  {
   "source": [
    "The output will be:\n",
    "Hi, Warren\n",
    "Hi, Warren\n",
    "Hi, Warren"
   ],
   "cell_type": "markdown",
   "metadata": {}
  },
  {
   "cell_type": "markdown",
   "metadata": {},
   "source": [
    "## Question 6"
   ]
  },
  {
   "cell_type": "markdown",
   "metadata": {},
   "source": [
    "**Fill in the blank such that program prints \"Hello! How are you\" 5 times but 3rd time it prints only \"Hello!\"**"
   ]
  },
  {
   "cell_type": "code",
   "execution_count": 10,
   "metadata": {},
   "outputs": [
    {
     "output_type": "stream",
     "name": "stdout",
     "text": [
      "i = 0\nHello! How are you\ni = 1\nHello! How are you\ni = 2\nHello! Hello!\ni = 3\nHello! How are you\ni = 4\nHello! How are you\ni = 5\nHello! How are you\n"
     ]
    }
   ],
   "source": [
    "\n",
    "for i in range (6):\n",
    "    print ('i =', i) \n",
    "    print ('Hello!', end = \" \")   # Note: end = '' appends space instead of new line\n",
    "    if i == 2: \n",
    "        print('Hello!')\n",
    "        continue \n",
    "    print ('How are you')"
   ]
  },
  {
   "cell_type": "markdown",
   "metadata": {},
   "source": [
    "## Question 7"
   ]
  },
  {
   "cell_type": "markdown",
   "metadata": {},
   "source": [
    "11. What does the following for loop output?\n"
   ]
  },
  {
   "cell_type": "code",
   "execution_count": null,
   "metadata": {
    "scrolled": true
   },
   "outputs": [],
   "source": [
    "nums = [10, 30, 20, 40]\n",
    "\n",
    "for k in range(1, 4):    # range(1,4) refers to [1,2,3]   --> k = 1, k = 2, k = 3\n",
    "    print(nums[k])       # print nums[1], nums[2], nums[3]"
   ]
  },
  {
   "cell_type": "markdown",
   "metadata": {},
   "source": [
    "   \n",
    "            (a) 10 (b) 30 (c) 10\n",
    "                30     20     30\n",
    "                20     40     20\n",
    "                              40\n",
    "\n",
    "The answer is B.    "
   ]
  },
  {
   "cell_type": "markdown",
   "metadata": {},
   "source": [
    "## Question 8"
   ]
  },
  {
   "cell_type": "markdown",
   "metadata": {},
   "source": [
    "**Write a python program to 1) ask the user the length of password and 2) generate a password randomly of given length.**"
   ]
  },
  {
   "cell_type": "markdown",
   "metadata": {},
   "source": [
    "**Step 1 import library \"random\"**"
   ]
  },
  {
   "cell_type": "code",
   "execution_count": 114,
   "metadata": {},
   "outputs": [
    {
     "output_type": "execute_result",
     "data": {
      "text/plain": [
       "'r'"
      ]
     },
     "metadata": {},
     "execution_count": 114
    }
   ],
   "source": [
    "#import library random\n",
    "import random\n",
    "random.choice('ri39fk')"
   ]
  },
  {
   "cell_type": "markdown",
   "metadata": {},
   "source": [
    "**Combine random alphabets,numbers and special characters, and store it in a variable called password.**"
   ]
  },
  {
   "source": [
    "chars = 'abcdefghijklmnopqrstuvwxyz1234567890!@#$%^&*.'\n",
    "password = ''\n",
    "\n",
    "# Take input from user\n",
    "# generate for loop\n",
    "\n",
    "#Answer for Part 1: Ask the user the length of password\n",
    "#Answer for Part 2: Generate A Random Password of Given length\n",
    "\n",
    "import random\n",
    "import string\n",
    "\n",
    "# get random string password with letters, digits, and symbols\n",
    "def get_random_password_string(length):\n",
    "    password_characters = string.ascii_letters + string.digits + string.punctuation\n",
    "    password = ''.join(random.choice(password_characters) for i in range(length))\n",
    "    print(\"The random password with length of 10 is:\", password)\n",
    "\n",
    "get_random_password_string(10)"
   ],
   "cell_type": "code",
   "metadata": {},
   "execution_count": 160,
   "outputs": [
    {
     "output_type": "stream",
     "name": "stdout",
     "text": [
      "The random password with length of 10 is: \\L\\pDU7Rba\n"
     ]
    }
   ]
  },
  {
   "cell_type": "markdown",
   "metadata": {},
   "source": [
    "## Question 10 "
   ]
  },
  {
   "cell_type": "markdown",
   "metadata": {},
   "source": [
    "**What is the output of this code if input my_input = 0? What is the output if my_input=5?**"
   ]
  },
  {
   "source": [
    "a = 1\n",
    "\n",
    "while a <= 3:\n",
    "    my_input = int (input (\"enter a no: \"))\n",
    "    if my_input == 0:\n",
    "        print (\"your input is 0\")\n",
    "        break\n",
    "    a+=1\n",
    "    print (\"looping\")\n",
    "\n",
    "print('thank you')\n",
    "\n",
    "#Answer\n",
    "#if input my_input = 0, the output is \"your input is 0 thank you\" \n",
    "#if input my_input = 5, the output is \"looping\"\n"
   ],
   "cell_type": "code",
   "metadata": {},
   "execution_count": null,
   "outputs": []
  },
  {
   "cell_type": "markdown",
   "metadata": {},
   "source": [
    "## Question 11"
   ]
  },
  {
   "cell_type": "markdown",
   "metadata": {},
   "source": [
    "**Write a Python program to count the elements in a list before it first hits a tuple.**"
   ]
  },
  {
   "cell_type": "code",
   "execution_count": null,
   "metadata": {},
   "outputs": [],
   "source": [
    "number = [10,20,(1,2),40]\n",
    "\n",
    "counter = 0\n",
    "\n",
    "# for loop \n",
    "\n",
    "\n"
   ]
  },
  {
   "cell_type": "code",
   "execution_count": 174,
   "metadata": {},
   "outputs": [
    {
     "output_type": "stream",
     "name": "stdout",
     "text": [
      "2\n"
     ]
    }
   ],
   "source": [
    "#Answer\n",
    "\n",
    "number = [10,20,(1,2),40]\n",
    "counter = 0\n",
    "for n in number:\n",
    "    if isinstance(n, tuple):\n",
    "        break\n",
    "    counter += 1\n",
    "print(counter)\n"
   ]
  },
  {
   "cell_type": "markdown",
   "metadata": {},
   "source": [
    "## Question 12 - a revisit!"
   ]
  },
  {
   "cell_type": "markdown",
   "metadata": {},
   "source": [
    "A king played chess with his subject and his subject won. He asked the subject what he wanted in return. <br> \n",
    "The subject, being clever, asked for one grain of wheat on the first square, two grains of wheat on the second square, four grains of wheat on the third square, and so forth, doubling the amount on each next square. \n",
    "\n",
    "**Calculate how much wheat the last square would be in kg. There are 64 squares in a chess board. A grain of wheat weighs approximately $1/7,000$ of a kg.**"
   ]
  },
  {
   "cell_type": "code",
   "execution_count": 1,
   "metadata": {},
   "outputs": [
    {
     "name": "stdout",
     "output_type": "stream",
     "text": [
      "Total grain weight in kg:  1317624576693539.5\n"
     ]
    }
   ],
   "source": [
    "# first square = 1         --> 2**0\n",
    "# second square = 2        --> 2**1\n",
    "# third square = 2*2 = 4   --> 2**2\n",
    "# fourth square = 2*2*2 = 8 --> 2**3 .......\n",
    "\n",
    "total_grains=2**63\n",
    "total_weight =total_grains/7000\n",
    "print (\"Total grain weight in kg: \", total_weight)\n"
   ]
  },
  {
   "source": [
    "#Now, using your knowledge in loops how do you calculate total grains?\n",
    "\n",
    "#Answer\n",
    "\n",
    "sum = 0\n",
    "for i in range(64):\n",
    "    sum += 2 ** i\n",
    "print(sum)\n",
    "total_weight =sum/7000\n",
    "print(total_weight)"
   ],
   "cell_type": "code",
   "metadata": {},
   "execution_count": 109,
   "outputs": [
    {
     "output_type": "stream",
     "name": "stdout",
     "text": [
      "18446744073709551615\n2635249153387079.0\n"
     ]
    }
   ]
  },
  {
   "cell_type": "code",
   "execution_count": null,
   "metadata": {},
   "outputs": [],
   "source": []
  }
 ],
 "metadata": {
  "kernelspec": {
   "name": "python3",
   "display_name": "Python 3.9.1 64-bit",
   "metadata": {
    "interpreter": {
     "hash": "63fd5069d213b44bf678585dea6b12cceca9941eaf7f819626cde1f2670de90d"
    }
   }
  },
  "language_info": {
   "codemirror_mode": {
    "name": "ipython",
    "version": 3
   },
   "file_extension": ".py",
   "mimetype": "text/x-python",
   "name": "python",
   "nbconvert_exporter": "python",
   "pygments_lexer": "ipython3",
   "version": "3.9.1-final"
  }
 },
 "nbformat": 4,
 "nbformat_minor": 2
}